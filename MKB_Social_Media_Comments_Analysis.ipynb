{
  "nbformat": 4,
  "nbformat_minor": 0,
  "metadata": {
    "colab": {
      "name": "MKB Social Media Comments Analysis.ipynb",
      "provenance": [],
      "collapsed_sections": []
    },
    "kernelspec": {
      "name": "python3",
      "display_name": "Python 3"
    },
    "language_info": {
      "name": "python"
    }
  },
  "cells": [
    {
      "cell_type": "code",
      "execution_count": null,
      "metadata": {
        "id": "SkCUmi7h9H2t"
      },
      "outputs": [],
      "source": [
        "import pandas as pd\n",
        "import numpy as np\n",
        "import spacy\n",
        "import string\n",
        "from spacy.lang.en.stop_words import STOP_WORDS\n",
        "from spacy.lang.en import English\n",
        "from sklearn.feature_extraction.text import CountVectorizer, TfidfVectorizer\n",
        "from sklearn.metrics import accuracy_score, confusion_matrix, classification_report\n",
        "from sklearn.base import TransformerMixin\n",
        "from sklearn.pipeline import Pipeline\n",
        "from sklearn.svm import LinearSVC\n",
        "from sklearn.model_selection import train_test_split"
      ]
    },
    {
      "cell_type": "code",
      "source": [
        "from google.colab import drive\n",
        "drive.mount('/content/drive')"
      ],
      "metadata": {
        "colab": {
          "base_uri": "https://localhost:8080/"
        },
        "id": "cPNbuLt_9RVw",
        "outputId": "11283be4-616c-4c18-8dab-9d57bb7710d1"
      },
      "execution_count": null,
      "outputs": [
        {
          "output_type": "stream",
          "name": "stdout",
          "text": [
            "Drive already mounted at /content/drive; to attempt to forcibly remount, call drive.mount(\"/content/drive\", force_remount=True).\n"
          ]
        }
      ]
    },
    {
      "cell_type": "code",
      "source": [
        "df=pd.read_csv('/content/drive/MyDrive/Comments Data.csv')"
      ],
      "metadata": {
        "id": "dYcLLAPc9RYm"
      },
      "execution_count": null,
      "outputs": []
    },
    {
      "cell_type": "code",
      "source": [
        "df.shape"
      ],
      "metadata": {
        "colab": {
          "base_uri": "https://localhost:8080/"
        },
        "id": "o63k8lT_9RbE",
        "outputId": "2ebdf8a8-af01-40fe-d99c-634b04d00139"
      },
      "execution_count": null,
      "outputs": [
        {
          "output_type": "execute_result",
          "data": {
            "text/plain": [
              "(16461, 12)"
            ]
          },
          "metadata": {},
          "execution_count": 5
        }
      ]
    },
    {
      "cell_type": "code",
      "source": [
        "df.info()"
      ],
      "metadata": {
        "colab": {
          "base_uri": "https://localhost:8080/"
        },
        "id": "ImjDILyG9ReH",
        "outputId": "5a20a360-6bdb-4cd9-bfc9-976434017d3c"
      },
      "execution_count": null,
      "outputs": [
        {
          "output_type": "stream",
          "name": "stdout",
          "text": [
            "<class 'pandas.core.frame.DataFrame'>\n",
            "RangeIndex: 16461 entries, 0 to 16460\n",
            "Data columns (total 12 columns):\n",
            " #   Column              Non-Null Count  Dtype \n",
            "---  ------              --------------  ----- \n",
            " 0   created_time        16461 non-null  object\n",
            " 1   commentDate         16461 non-null  object\n",
            " 2   commentAuthor       16461 non-null  object\n",
            " 3   permalink_url       16461 non-null  object\n",
            " 4   commentText         16460 non-null  object\n",
            " 5   feed_source         16461 non-null  object\n",
            " 6   parentPostId        16461 non-null  object\n",
            " 7   message             16447 non-null  object\n",
            " 8   commentId           16461 non-null  object\n",
            " 9   commentCategory     11447 non-null  object\n",
            " 10  sentimap.Sentiment  10190 non-null  object\n",
            " 11  commentAuthorName   10682 non-null  object\n",
            "dtypes: object(12)\n",
            "memory usage: 1.5+ MB\n"
          ]
        }
      ]
    },
    {
      "cell_type": "code",
      "source": [
        "df.head()"
      ],
      "metadata": {
        "colab": {
          "base_uri": "https://localhost:8080/",
          "height": 704
        },
        "id": "1VKEuOSa9RgH",
        "outputId": "8510cf6c-91e2-44c7-f63e-c1df9f2f9d31"
      },
      "execution_count": null,
      "outputs": [
        {
          "output_type": "execute_result",
          "data": {
            "text/plain": [
              "                                        created_time  \\\n",
              "0  [\"2022-07-26T05:44:02.000Z\",\"2022-07-26T05:44:...   \n",
              "1  [\"2022-07-26T05:44:02.000Z\",\"2022-07-26T05:44:...   \n",
              "2  [\"2022-07-26T05:44:02.000Z\",\"2022-07-26T05:44:...   \n",
              "3  [\"2022-07-26T05:44:02.000Z\",\"2022-07-26T05:44:...   \n",
              "4  [\"2022-07-26T05:44:02.000Z\",\"2022-07-26T05:44:...   \n",
              "\n",
              "                commentDate      commentAuthor  \\\n",
              "0  2022-07-26T05:48:34.000Z  17940568721235593   \n",
              "1  2022-07-26T05:44:28.000Z  17952781612998552   \n",
              "2  2022-07-26T05:45:50.000Z  17897535698640852   \n",
              "3  2022-07-26T06:01:47.000Z  17935734572489124   \n",
              "4  2022-07-26T06:14:34.000Z  17930411201249794   \n",
              "\n",
              "                               permalink_url  \\\n",
              "0  https://www.instagram.com/tv/CgdtJE3vbaV/   \n",
              "1  https://www.instagram.com/tv/CgdtJE3vbaV/   \n",
              "2  https://www.instagram.com/tv/CgdtJE3vbaV/   \n",
              "3  https://www.instagram.com/tv/CgdtJE3vbaV/   \n",
              "4  https://www.instagram.com/tv/CgdtJE3vbaV/   \n",
              "\n",
              "                                         commentText feed_source  \\\n",
              "0                                        Jay hind 🇮🇳   Instagram   \n",
              "1  💲𝟏𝟐𝟎𝐫𝐬:- 𝟏𝟎𝟎𝟎 𝐟𝐨𝐥𝐥𝐨𝐰𝐞𝐫𝐬\\n💲 𝟐𝟏𝟎𝐫𝐬: 𝟐𝟎𝟎𝟎 𝐟𝐨𝐥𝐥𝐨𝐰𝐞...   Instagram   \n",
              "2                 Power of democracy of India 💪🎊🎉🥳🇮🇳   Instagram   \n",
              "3                                                 🔥👏   Instagram   \n",
              "4  *Bhaarath maata ke jay... *भारत माता की जय... ...   Instagram   \n",
              "\n",
              "        parentPostId                                            message  \\\n",
              "0  17916256646481655  Your daily dose of positivity delivered! #MyGo...   \n",
              "1  17916256646481655  Your daily dose of positivity delivered! #MyGo...   \n",
              "2  17916256646481655  Your daily dose of positivity delivered! #MyGo...   \n",
              "3  17916256646481655  Your daily dose of positivity delivered! #MyGo...   \n",
              "4  17916256646481655  Your daily dose of positivity delivered! #MyGo...   \n",
              "\n",
              "                                         commentId commentCategory  \\\n",
              "0  17940568721235593179162566464816551658814514000      Suggestion   \n",
              "1  17952781612998552179162566464816551658814268000             NaN   \n",
              "2  17897535698640852179162566464816551658814350000      Suggestion   \n",
              "3  17935734572489124179162566464816551658815307000             NaN   \n",
              "4  17930411201249794179162566464816551658816074000            spam   \n",
              "\n",
              "  sentimap.Sentiment        commentAuthorName  \n",
              "0                NaN  _shivani__gautam_198922  \n",
              "1                NaN        instant__booster_  \n",
              "2                NaN       maaprajitasportsvp  \n",
              "3                NaN          _tyagiishubham_  \n",
              "4                NaN           _y5_candy_boy_  "
            ],
            "text/html": [
              "\n",
              "  <div id=\"df-84a82357-bcb7-464b-ac17-45354d4da507\">\n",
              "    <div class=\"colab-df-container\">\n",
              "      <div>\n",
              "<style scoped>\n",
              "    .dataframe tbody tr th:only-of-type {\n",
              "        vertical-align: middle;\n",
              "    }\n",
              "\n",
              "    .dataframe tbody tr th {\n",
              "        vertical-align: top;\n",
              "    }\n",
              "\n",
              "    .dataframe thead th {\n",
              "        text-align: right;\n",
              "    }\n",
              "</style>\n",
              "<table border=\"1\" class=\"dataframe\">\n",
              "  <thead>\n",
              "    <tr style=\"text-align: right;\">\n",
              "      <th></th>\n",
              "      <th>created_time</th>\n",
              "      <th>commentDate</th>\n",
              "      <th>commentAuthor</th>\n",
              "      <th>permalink_url</th>\n",
              "      <th>commentText</th>\n",
              "      <th>feed_source</th>\n",
              "      <th>parentPostId</th>\n",
              "      <th>message</th>\n",
              "      <th>commentId</th>\n",
              "      <th>commentCategory</th>\n",
              "      <th>sentimap.Sentiment</th>\n",
              "      <th>commentAuthorName</th>\n",
              "    </tr>\n",
              "  </thead>\n",
              "  <tbody>\n",
              "    <tr>\n",
              "      <th>0</th>\n",
              "      <td>[\"2022-07-26T05:44:02.000Z\",\"2022-07-26T05:44:...</td>\n",
              "      <td>2022-07-26T05:48:34.000Z</td>\n",
              "      <td>17940568721235593</td>\n",
              "      <td>https://www.instagram.com/tv/CgdtJE3vbaV/</td>\n",
              "      <td>Jay hind 🇮🇳</td>\n",
              "      <td>Instagram</td>\n",
              "      <td>17916256646481655</td>\n",
              "      <td>Your daily dose of positivity delivered! #MyGo...</td>\n",
              "      <td>17940568721235593179162566464816551658814514000</td>\n",
              "      <td>Suggestion</td>\n",
              "      <td>NaN</td>\n",
              "      <td>_shivani__gautam_198922</td>\n",
              "    </tr>\n",
              "    <tr>\n",
              "      <th>1</th>\n",
              "      <td>[\"2022-07-26T05:44:02.000Z\",\"2022-07-26T05:44:...</td>\n",
              "      <td>2022-07-26T05:44:28.000Z</td>\n",
              "      <td>17952781612998552</td>\n",
              "      <td>https://www.instagram.com/tv/CgdtJE3vbaV/</td>\n",
              "      <td>💲𝟏𝟐𝟎𝐫𝐬:- 𝟏𝟎𝟎𝟎 𝐟𝐨𝐥𝐥𝐨𝐰𝐞𝐫𝐬\\n💲 𝟐𝟏𝟎𝐫𝐬: 𝟐𝟎𝟎𝟎 𝐟𝐨𝐥𝐥𝐨𝐰𝐞...</td>\n",
              "      <td>Instagram</td>\n",
              "      <td>17916256646481655</td>\n",
              "      <td>Your daily dose of positivity delivered! #MyGo...</td>\n",
              "      <td>17952781612998552179162566464816551658814268000</td>\n",
              "      <td>NaN</td>\n",
              "      <td>NaN</td>\n",
              "      <td>instant__booster_</td>\n",
              "    </tr>\n",
              "    <tr>\n",
              "      <th>2</th>\n",
              "      <td>[\"2022-07-26T05:44:02.000Z\",\"2022-07-26T05:44:...</td>\n",
              "      <td>2022-07-26T05:45:50.000Z</td>\n",
              "      <td>17897535698640852</td>\n",
              "      <td>https://www.instagram.com/tv/CgdtJE3vbaV/</td>\n",
              "      <td>Power of democracy of India 💪🎊🎉🥳🇮🇳</td>\n",
              "      <td>Instagram</td>\n",
              "      <td>17916256646481655</td>\n",
              "      <td>Your daily dose of positivity delivered! #MyGo...</td>\n",
              "      <td>17897535698640852179162566464816551658814350000</td>\n",
              "      <td>Suggestion</td>\n",
              "      <td>NaN</td>\n",
              "      <td>maaprajitasportsvp</td>\n",
              "    </tr>\n",
              "    <tr>\n",
              "      <th>3</th>\n",
              "      <td>[\"2022-07-26T05:44:02.000Z\",\"2022-07-26T05:44:...</td>\n",
              "      <td>2022-07-26T06:01:47.000Z</td>\n",
              "      <td>17935734572489124</td>\n",
              "      <td>https://www.instagram.com/tv/CgdtJE3vbaV/</td>\n",
              "      <td>🔥👏</td>\n",
              "      <td>Instagram</td>\n",
              "      <td>17916256646481655</td>\n",
              "      <td>Your daily dose of positivity delivered! #MyGo...</td>\n",
              "      <td>17935734572489124179162566464816551658815307000</td>\n",
              "      <td>NaN</td>\n",
              "      <td>NaN</td>\n",
              "      <td>_tyagiishubham_</td>\n",
              "    </tr>\n",
              "    <tr>\n",
              "      <th>4</th>\n",
              "      <td>[\"2022-07-26T05:44:02.000Z\",\"2022-07-26T05:44:...</td>\n",
              "      <td>2022-07-26T06:14:34.000Z</td>\n",
              "      <td>17930411201249794</td>\n",
              "      <td>https://www.instagram.com/tv/CgdtJE3vbaV/</td>\n",
              "      <td>*Bhaarath maata ke jay... *भारत माता की जय... ...</td>\n",
              "      <td>Instagram</td>\n",
              "      <td>17916256646481655</td>\n",
              "      <td>Your daily dose of positivity delivered! #MyGo...</td>\n",
              "      <td>17930411201249794179162566464816551658816074000</td>\n",
              "      <td>spam</td>\n",
              "      <td>NaN</td>\n",
              "      <td>_y5_candy_boy_</td>\n",
              "    </tr>\n",
              "  </tbody>\n",
              "</table>\n",
              "</div>\n",
              "      <button class=\"colab-df-convert\" onclick=\"convertToInteractive('df-84a82357-bcb7-464b-ac17-45354d4da507')\"\n",
              "              title=\"Convert this dataframe to an interactive table.\"\n",
              "              style=\"display:none;\">\n",
              "        \n",
              "  <svg xmlns=\"http://www.w3.org/2000/svg\" height=\"24px\"viewBox=\"0 0 24 24\"\n",
              "       width=\"24px\">\n",
              "    <path d=\"M0 0h24v24H0V0z\" fill=\"none\"/>\n",
              "    <path d=\"M18.56 5.44l.94 2.06.94-2.06 2.06-.94-2.06-.94-.94-2.06-.94 2.06-2.06.94zm-11 1L8.5 8.5l.94-2.06 2.06-.94-2.06-.94L8.5 2.5l-.94 2.06-2.06.94zm10 10l.94 2.06.94-2.06 2.06-.94-2.06-.94-.94-2.06-.94 2.06-2.06.94z\"/><path d=\"M17.41 7.96l-1.37-1.37c-.4-.4-.92-.59-1.43-.59-.52 0-1.04.2-1.43.59L10.3 9.45l-7.72 7.72c-.78.78-.78 2.05 0 2.83L4 21.41c.39.39.9.59 1.41.59.51 0 1.02-.2 1.41-.59l7.78-7.78 2.81-2.81c.8-.78.8-2.07 0-2.86zM5.41 20L4 18.59l7.72-7.72 1.47 1.35L5.41 20z\"/>\n",
              "  </svg>\n",
              "      </button>\n",
              "      \n",
              "  <style>\n",
              "    .colab-df-container {\n",
              "      display:flex;\n",
              "      flex-wrap:wrap;\n",
              "      gap: 12px;\n",
              "    }\n",
              "\n",
              "    .colab-df-convert {\n",
              "      background-color: #E8F0FE;\n",
              "      border: none;\n",
              "      border-radius: 50%;\n",
              "      cursor: pointer;\n",
              "      display: none;\n",
              "      fill: #1967D2;\n",
              "      height: 32px;\n",
              "      padding: 0 0 0 0;\n",
              "      width: 32px;\n",
              "    }\n",
              "\n",
              "    .colab-df-convert:hover {\n",
              "      background-color: #E2EBFA;\n",
              "      box-shadow: 0px 1px 2px rgba(60, 64, 67, 0.3), 0px 1px 3px 1px rgba(60, 64, 67, 0.15);\n",
              "      fill: #174EA6;\n",
              "    }\n",
              "\n",
              "    [theme=dark] .colab-df-convert {\n",
              "      background-color: #3B4455;\n",
              "      fill: #D2E3FC;\n",
              "    }\n",
              "\n",
              "    [theme=dark] .colab-df-convert:hover {\n",
              "      background-color: #434B5C;\n",
              "      box-shadow: 0px 1px 3px 1px rgba(0, 0, 0, 0.15);\n",
              "      filter: drop-shadow(0px 1px 2px rgba(0, 0, 0, 0.3));\n",
              "      fill: #FFFFFF;\n",
              "    }\n",
              "  </style>\n",
              "\n",
              "      <script>\n",
              "        const buttonEl =\n",
              "          document.querySelector('#df-84a82357-bcb7-464b-ac17-45354d4da507 button.colab-df-convert');\n",
              "        buttonEl.style.display =\n",
              "          google.colab.kernel.accessAllowed ? 'block' : 'none';\n",
              "\n",
              "        async function convertToInteractive(key) {\n",
              "          const element = document.querySelector('#df-84a82357-bcb7-464b-ac17-45354d4da507');\n",
              "          const dataTable =\n",
              "            await google.colab.kernel.invokeFunction('convertToInteractive',\n",
              "                                                     [key], {});\n",
              "          if (!dataTable) return;\n",
              "\n",
              "          const docLinkHtml = 'Like what you see? Visit the ' +\n",
              "            '<a target=\"_blank\" href=https://colab.research.google.com/notebooks/data_table.ipynb>data table notebook</a>'\n",
              "            + ' to learn more about interactive tables.';\n",
              "          element.innerHTML = '';\n",
              "          dataTable['output_type'] = 'display_data';\n",
              "          await google.colab.output.renderOutput(dataTable, element);\n",
              "          const docLink = document.createElement('div');\n",
              "          docLink.innerHTML = docLinkHtml;\n",
              "          element.appendChild(docLink);\n",
              "        }\n",
              "      </script>\n",
              "    </div>\n",
              "  </div>\n",
              "  "
            ]
          },
          "metadata": {},
          "execution_count": 7
        }
      ]
    },
    {
      "cell_type": "code",
      "source": [
        " \n",
        "df = df.drop(\"commentDate\", axis=1) \n",
        "df = df.drop(\"commentAuthor\", axis=1) \n",
        "df = df.drop(\"permalink_url\", axis=1) \n",
        "df = df.drop(\"feed_source\", axis=1) \n",
        "df = df.drop(\"parentPostId\", axis=1)\n",
        "df = df.drop(\"message\", axis=1) \n",
        "df = df.drop(\"commentId\", axis=1)\n",
        "df = df.drop(\"commentCategory\", axis=1)\n",
        "df = df.drop(\"commentAuthorName\", axis=1)\n"
      ],
      "metadata": {
        "id": "1lEEjNTG-PG-"
      },
      "execution_count": null,
      "outputs": []
    },
    {
      "cell_type": "code",
      "source": [
        "df.head()"
      ],
      "metadata": {
        "colab": {
          "base_uri": "https://localhost:8080/",
          "height": 206
        },
        "id": "eYcIkSf3-PJw",
        "outputId": "f53450a4-9594-43a7-d93b-2120504d978a"
      },
      "execution_count": null,
      "outputs": [
        {
          "output_type": "execute_result",
          "data": {
            "text/plain": [
              "                                         commentText sentimap.Sentiment\n",
              "0                                        Jay hind 🇮🇳                NaN\n",
              "1  💲𝟏𝟐𝟎𝐫𝐬:- 𝟏𝟎𝟎𝟎 𝐟𝐨𝐥𝐥𝐨𝐰𝐞𝐫𝐬\\n💲 𝟐𝟏𝟎𝐫𝐬: 𝟐𝟎𝟎𝟎 𝐟𝐨𝐥𝐥𝐨𝐰𝐞...                NaN\n",
              "2                 Power of democracy of India 💪🎊🎉🥳🇮🇳                NaN\n",
              "3                                                 🔥👏                NaN\n",
              "4  *Bhaarath maata ke jay... *भारत माता की जय... ...                NaN"
            ],
            "text/html": [
              "\n",
              "  <div id=\"df-34043982-d42e-4504-a62d-8a36d21ed045\">\n",
              "    <div class=\"colab-df-container\">\n",
              "      <div>\n",
              "<style scoped>\n",
              "    .dataframe tbody tr th:only-of-type {\n",
              "        vertical-align: middle;\n",
              "    }\n",
              "\n",
              "    .dataframe tbody tr th {\n",
              "        vertical-align: top;\n",
              "    }\n",
              "\n",
              "    .dataframe thead th {\n",
              "        text-align: right;\n",
              "    }\n",
              "</style>\n",
              "<table border=\"1\" class=\"dataframe\">\n",
              "  <thead>\n",
              "    <tr style=\"text-align: right;\">\n",
              "      <th></th>\n",
              "      <th>commentText</th>\n",
              "      <th>sentimap.Sentiment</th>\n",
              "    </tr>\n",
              "  </thead>\n",
              "  <tbody>\n",
              "    <tr>\n",
              "      <th>0</th>\n",
              "      <td>Jay hind 🇮🇳</td>\n",
              "      <td>NaN</td>\n",
              "    </tr>\n",
              "    <tr>\n",
              "      <th>1</th>\n",
              "      <td>💲𝟏𝟐𝟎𝐫𝐬:- 𝟏𝟎𝟎𝟎 𝐟𝐨𝐥𝐥𝐨𝐰𝐞𝐫𝐬\\n💲 𝟐𝟏𝟎𝐫𝐬: 𝟐𝟎𝟎𝟎 𝐟𝐨𝐥𝐥𝐨𝐰𝐞...</td>\n",
              "      <td>NaN</td>\n",
              "    </tr>\n",
              "    <tr>\n",
              "      <th>2</th>\n",
              "      <td>Power of democracy of India 💪🎊🎉🥳🇮🇳</td>\n",
              "      <td>NaN</td>\n",
              "    </tr>\n",
              "    <tr>\n",
              "      <th>3</th>\n",
              "      <td>🔥👏</td>\n",
              "      <td>NaN</td>\n",
              "    </tr>\n",
              "    <tr>\n",
              "      <th>4</th>\n",
              "      <td>*Bhaarath maata ke jay... *भारत माता की जय... ...</td>\n",
              "      <td>NaN</td>\n",
              "    </tr>\n",
              "  </tbody>\n",
              "</table>\n",
              "</div>\n",
              "      <button class=\"colab-df-convert\" onclick=\"convertToInteractive('df-34043982-d42e-4504-a62d-8a36d21ed045')\"\n",
              "              title=\"Convert this dataframe to an interactive table.\"\n",
              "              style=\"display:none;\">\n",
              "        \n",
              "  <svg xmlns=\"http://www.w3.org/2000/svg\" height=\"24px\"viewBox=\"0 0 24 24\"\n",
              "       width=\"24px\">\n",
              "    <path d=\"M0 0h24v24H0V0z\" fill=\"none\"/>\n",
              "    <path d=\"M18.56 5.44l.94 2.06.94-2.06 2.06-.94-2.06-.94-.94-2.06-.94 2.06-2.06.94zm-11 1L8.5 8.5l.94-2.06 2.06-.94-2.06-.94L8.5 2.5l-.94 2.06-2.06.94zm10 10l.94 2.06.94-2.06 2.06-.94-2.06-.94-.94-2.06-.94 2.06-2.06.94z\"/><path d=\"M17.41 7.96l-1.37-1.37c-.4-.4-.92-.59-1.43-.59-.52 0-1.04.2-1.43.59L10.3 9.45l-7.72 7.72c-.78.78-.78 2.05 0 2.83L4 21.41c.39.39.9.59 1.41.59.51 0 1.02-.2 1.41-.59l7.78-7.78 2.81-2.81c.8-.78.8-2.07 0-2.86zM5.41 20L4 18.59l7.72-7.72 1.47 1.35L5.41 20z\"/>\n",
              "  </svg>\n",
              "      </button>\n",
              "      \n",
              "  <style>\n",
              "    .colab-df-container {\n",
              "      display:flex;\n",
              "      flex-wrap:wrap;\n",
              "      gap: 12px;\n",
              "    }\n",
              "\n",
              "    .colab-df-convert {\n",
              "      background-color: #E8F0FE;\n",
              "      border: none;\n",
              "      border-radius: 50%;\n",
              "      cursor: pointer;\n",
              "      display: none;\n",
              "      fill: #1967D2;\n",
              "      height: 32px;\n",
              "      padding: 0 0 0 0;\n",
              "      width: 32px;\n",
              "    }\n",
              "\n",
              "    .colab-df-convert:hover {\n",
              "      background-color: #E2EBFA;\n",
              "      box-shadow: 0px 1px 2px rgba(60, 64, 67, 0.3), 0px 1px 3px 1px rgba(60, 64, 67, 0.15);\n",
              "      fill: #174EA6;\n",
              "    }\n",
              "\n",
              "    [theme=dark] .colab-df-convert {\n",
              "      background-color: #3B4455;\n",
              "      fill: #D2E3FC;\n",
              "    }\n",
              "\n",
              "    [theme=dark] .colab-df-convert:hover {\n",
              "      background-color: #434B5C;\n",
              "      box-shadow: 0px 1px 3px 1px rgba(0, 0, 0, 0.15);\n",
              "      filter: drop-shadow(0px 1px 2px rgba(0, 0, 0, 0.3));\n",
              "      fill: #FFFFFF;\n",
              "    }\n",
              "  </style>\n",
              "\n",
              "      <script>\n",
              "        const buttonEl =\n",
              "          document.querySelector('#df-34043982-d42e-4504-a62d-8a36d21ed045 button.colab-df-convert');\n",
              "        buttonEl.style.display =\n",
              "          google.colab.kernel.accessAllowed ? 'block' : 'none';\n",
              "\n",
              "        async function convertToInteractive(key) {\n",
              "          const element = document.querySelector('#df-34043982-d42e-4504-a62d-8a36d21ed045');\n",
              "          const dataTable =\n",
              "            await google.colab.kernel.invokeFunction('convertToInteractive',\n",
              "                                                     [key], {});\n",
              "          if (!dataTable) return;\n",
              "\n",
              "          const docLinkHtml = 'Like what you see? Visit the ' +\n",
              "            '<a target=\"_blank\" href=https://colab.research.google.com/notebooks/data_table.ipynb>data table notebook</a>'\n",
              "            + ' to learn more about interactive tables.';\n",
              "          element.innerHTML = '';\n",
              "          dataTable['output_type'] = 'display_data';\n",
              "          await google.colab.output.renderOutput(dataTable, element);\n",
              "          const docLink = document.createElement('div');\n",
              "          docLink.innerHTML = docLinkHtml;\n",
              "          element.appendChild(docLink);\n",
              "        }\n",
              "      </script>\n",
              "    </div>\n",
              "  </div>\n",
              "  "
            ]
          },
          "metadata": {},
          "execution_count": 12
        }
      ]
    },
    {
      "cell_type": "code",
      "source": [
        "df.isnull().sum()"
      ],
      "metadata": {
        "colab": {
          "base_uri": "https://localhost:8080/"
        },
        "id": "38RojSf4-PMO",
        "outputId": "8638ec7f-057b-487b-b01d-94bf2bff170c"
      },
      "execution_count": null,
      "outputs": [
        {
          "output_type": "execute_result",
          "data": {
            "text/plain": [
              "commentText              1\n",
              "sentimap.Sentiment    6271\n",
              "dtype: int64"
            ]
          },
          "metadata": {},
          "execution_count": 13
        }
      ]
    },
    {
      "cell_type": "code",
      "source": [
        "df = df.dropna()"
      ],
      "metadata": {
        "id": "vN300K9HBUzJ"
      },
      "execution_count": null,
      "outputs": []
    },
    {
      "cell_type": "code",
      "source": [
        "df.isnull().sum()"
      ],
      "metadata": {
        "colab": {
          "base_uri": "https://localhost:8080/"
        },
        "id": "Khw7dr1HBUwb",
        "outputId": "169d9af7-1498-4603-aa9e-a28b42d37281"
      },
      "execution_count": null,
      "outputs": [
        {
          "output_type": "execute_result",
          "data": {
            "text/plain": [
              "commentText           0\n",
              "sentimap.Sentiment    0\n",
              "dtype: int64"
            ]
          },
          "metadata": {},
          "execution_count": 17
        }
      ]
    },
    {
      "cell_type": "code",
      "source": [
        "df.shape"
      ],
      "metadata": {
        "colab": {
          "base_uri": "https://localhost:8080/"
        },
        "id": "9xzIEqTFDt9A",
        "outputId": "7f59eb16-a0fe-4026-9eb1-7a4dca457115"
      },
      "execution_count": null,
      "outputs": [
        {
          "output_type": "execute_result",
          "data": {
            "text/plain": [
              "(10189, 2)"
            ]
          },
          "metadata": {},
          "execution_count": 18
        }
      ]
    },
    {
      "cell_type": "code",
      "source": [
        "df. rename(columns = {'sentimap.Sentiment':'Sentiment'}, inplace = True)"
      ],
      "metadata": {
        "id": "dIi_fXQYImDW"
      },
      "execution_count": null,
      "outputs": []
    },
    {
      "cell_type": "code",
      "source": [
        "df.Sentiment.unique()"
      ],
      "metadata": {
        "colab": {
          "base_uri": "https://localhost:8080/"
        },
        "id": "V42r1-Te-PPJ",
        "outputId": "05126b75-ee59-49f4-b736-25f30095fa5b"
      },
      "execution_count": null,
      "outputs": [
        {
          "output_type": "execute_result",
          "data": {
            "text/plain": [
              "array(['Neutral', 'Negitive', 'Positive'], dtype=object)"
            ]
          },
          "metadata": {},
          "execution_count": 20
        }
      ]
    },
    {
      "cell_type": "code",
      "source": [
        "df.Sentiment.value_counts()"
      ],
      "metadata": {
        "colab": {
          "base_uri": "https://localhost:8080/"
        },
        "id": "iLTxvYbH-PRz",
        "outputId": "e6a191a5-a408-4005-cd67-85d1ded30c12"
      },
      "execution_count": null,
      "outputs": [
        {
          "output_type": "execute_result",
          "data": {
            "text/plain": [
              "Neutral     4804\n",
              "Positive    4228\n",
              "Negitive    1157\n",
              "Name: Sentiment, dtype: int64"
            ]
          },
          "metadata": {},
          "execution_count": 21
        }
      ]
    },
    {
      "cell_type": "code",
      "source": [
        "df.head()"
      ],
      "metadata": {
        "colab": {
          "base_uri": "https://localhost:8080/",
          "height": 206
        },
        "id": "rWxjONfOI1XI",
        "outputId": "943f7336-67ed-43af-a28f-b9d1bbbcb3f2"
      },
      "execution_count": null,
      "outputs": [
        {
          "output_type": "execute_result",
          "data": {
            "text/plain": [
              "                            commentText Sentiment\n",
              "6   @mygovindia https://t.co/pbz5RpLjX5   Neutral\n",
              "12                    Jai hind ki senaa   Neutral\n",
              "13            Jay ho bharat maa ke veer   Neutral\n",
              "15                             Jay hind   Neutral\n",
              "26                            Jay hind🔥   Neutral"
            ],
            "text/html": [
              "\n",
              "  <div id=\"df-a6d89667-f91e-46a9-9aaa-eedb7c36c3ee\">\n",
              "    <div class=\"colab-df-container\">\n",
              "      <div>\n",
              "<style scoped>\n",
              "    .dataframe tbody tr th:only-of-type {\n",
              "        vertical-align: middle;\n",
              "    }\n",
              "\n",
              "    .dataframe tbody tr th {\n",
              "        vertical-align: top;\n",
              "    }\n",
              "\n",
              "    .dataframe thead th {\n",
              "        text-align: right;\n",
              "    }\n",
              "</style>\n",
              "<table border=\"1\" class=\"dataframe\">\n",
              "  <thead>\n",
              "    <tr style=\"text-align: right;\">\n",
              "      <th></th>\n",
              "      <th>commentText</th>\n",
              "      <th>Sentiment</th>\n",
              "    </tr>\n",
              "  </thead>\n",
              "  <tbody>\n",
              "    <tr>\n",
              "      <th>6</th>\n",
              "      <td>@mygovindia https://t.co/pbz5RpLjX5</td>\n",
              "      <td>Neutral</td>\n",
              "    </tr>\n",
              "    <tr>\n",
              "      <th>12</th>\n",
              "      <td>Jai hind ki senaa</td>\n",
              "      <td>Neutral</td>\n",
              "    </tr>\n",
              "    <tr>\n",
              "      <th>13</th>\n",
              "      <td>Jay ho bharat maa ke veer</td>\n",
              "      <td>Neutral</td>\n",
              "    </tr>\n",
              "    <tr>\n",
              "      <th>15</th>\n",
              "      <td>Jay hind</td>\n",
              "      <td>Neutral</td>\n",
              "    </tr>\n",
              "    <tr>\n",
              "      <th>26</th>\n",
              "      <td>Jay hind🔥</td>\n",
              "      <td>Neutral</td>\n",
              "    </tr>\n",
              "  </tbody>\n",
              "</table>\n",
              "</div>\n",
              "      <button class=\"colab-df-convert\" onclick=\"convertToInteractive('df-a6d89667-f91e-46a9-9aaa-eedb7c36c3ee')\"\n",
              "              title=\"Convert this dataframe to an interactive table.\"\n",
              "              style=\"display:none;\">\n",
              "        \n",
              "  <svg xmlns=\"http://www.w3.org/2000/svg\" height=\"24px\"viewBox=\"0 0 24 24\"\n",
              "       width=\"24px\">\n",
              "    <path d=\"M0 0h24v24H0V0z\" fill=\"none\"/>\n",
              "    <path d=\"M18.56 5.44l.94 2.06.94-2.06 2.06-.94-2.06-.94-.94-2.06-.94 2.06-2.06.94zm-11 1L8.5 8.5l.94-2.06 2.06-.94-2.06-.94L8.5 2.5l-.94 2.06-2.06.94zm10 10l.94 2.06.94-2.06 2.06-.94-2.06-.94-.94-2.06-.94 2.06-2.06.94z\"/><path d=\"M17.41 7.96l-1.37-1.37c-.4-.4-.92-.59-1.43-.59-.52 0-1.04.2-1.43.59L10.3 9.45l-7.72 7.72c-.78.78-.78 2.05 0 2.83L4 21.41c.39.39.9.59 1.41.59.51 0 1.02-.2 1.41-.59l7.78-7.78 2.81-2.81c.8-.78.8-2.07 0-2.86zM5.41 20L4 18.59l7.72-7.72 1.47 1.35L5.41 20z\"/>\n",
              "  </svg>\n",
              "      </button>\n",
              "      \n",
              "  <style>\n",
              "    .colab-df-container {\n",
              "      display:flex;\n",
              "      flex-wrap:wrap;\n",
              "      gap: 12px;\n",
              "    }\n",
              "\n",
              "    .colab-df-convert {\n",
              "      background-color: #E8F0FE;\n",
              "      border: none;\n",
              "      border-radius: 50%;\n",
              "      cursor: pointer;\n",
              "      display: none;\n",
              "      fill: #1967D2;\n",
              "      height: 32px;\n",
              "      padding: 0 0 0 0;\n",
              "      width: 32px;\n",
              "    }\n",
              "\n",
              "    .colab-df-convert:hover {\n",
              "      background-color: #E2EBFA;\n",
              "      box-shadow: 0px 1px 2px rgba(60, 64, 67, 0.3), 0px 1px 3px 1px rgba(60, 64, 67, 0.15);\n",
              "      fill: #174EA6;\n",
              "    }\n",
              "\n",
              "    [theme=dark] .colab-df-convert {\n",
              "      background-color: #3B4455;\n",
              "      fill: #D2E3FC;\n",
              "    }\n",
              "\n",
              "    [theme=dark] .colab-df-convert:hover {\n",
              "      background-color: #434B5C;\n",
              "      box-shadow: 0px 1px 3px 1px rgba(0, 0, 0, 0.15);\n",
              "      filter: drop-shadow(0px 1px 2px rgba(0, 0, 0, 0.3));\n",
              "      fill: #FFFFFF;\n",
              "    }\n",
              "  </style>\n",
              "\n",
              "      <script>\n",
              "        const buttonEl =\n",
              "          document.querySelector('#df-a6d89667-f91e-46a9-9aaa-eedb7c36c3ee button.colab-df-convert');\n",
              "        buttonEl.style.display =\n",
              "          google.colab.kernel.accessAllowed ? 'block' : 'none';\n",
              "\n",
              "        async function convertToInteractive(key) {\n",
              "          const element = document.querySelector('#df-a6d89667-f91e-46a9-9aaa-eedb7c36c3ee');\n",
              "          const dataTable =\n",
              "            await google.colab.kernel.invokeFunction('convertToInteractive',\n",
              "                                                     [key], {});\n",
              "          if (!dataTable) return;\n",
              "\n",
              "          const docLinkHtml = 'Like what you see? Visit the ' +\n",
              "            '<a target=\"_blank\" href=https://colab.research.google.com/notebooks/data_table.ipynb>data table notebook</a>'\n",
              "            + ' to learn more about interactive tables.';\n",
              "          element.innerHTML = '';\n",
              "          dataTable['output_type'] = 'display_data';\n",
              "          await google.colab.output.renderOutput(dataTable, element);\n",
              "          const docLink = document.createElement('div');\n",
              "          docLink.innerHTML = docLinkHtml;\n",
              "          element.appendChild(docLink);\n",
              "        }\n",
              "      </script>\n",
              "    </div>\n",
              "  </div>\n",
              "  "
            ]
          },
          "metadata": {},
          "execution_count": 22
        }
      ]
    },
    {
      "cell_type": "code",
      "source": [
        "# operate on the texts\n",
        "nlp = spacy.load(\"en_core_web_sm\")\n",
        "stopwords=list(STOP_WORDS)\n",
        "punctuations=string.punctuation"
      ],
      "metadata": {
        "id": "ZcB_U3EoI1Z_"
      },
      "execution_count": null,
      "outputs": []
    },
    {
      "cell_type": "code",
      "source": [
        "# tokenizer\n",
        "\n",
        "def tokenizer(sentence):\n",
        "  mytokens=nlp(sentence)\n",
        "  mytokens= [ word.lemma_.lower().strip() if word.lemma_ != \"-PRON-\" else word.lower_ for word in mytokens ]\n",
        "  mytokens= [ word for word in mytokens if word not in stopwords and word not in punctuations ]\n",
        "  return mytokens"
      ],
      "metadata": {
        "id": "HW0PVHjTI1db"
      },
      "execution_count": null,
      "outputs": []
    },
    {
      "cell_type": "code",
      "source": [
        "# Transformation (basically cleaning the text)\n",
        "class predictors(TransformerMixin):\n",
        "  def transform(self, X, **transform_params):\n",
        "    return [clean_text(text) for text in X]\n",
        "  def fit(self, X, y, **fit_params):\n",
        "    return self\n",
        "  def get_params(self, deep=True):\n",
        "    return {}\n",
        "\n",
        "# Basic function to clean the text\n",
        "def clean_text(text):\n",
        "  return text.strip().lower()"
      ],
      "metadata": {
        "id": "PNJ73EhKJF7x"
      },
      "execution_count": null,
      "outputs": []
    },
    {
      "cell_type": "code",
      "source": [
        "# Vectorization\n",
        "vectorizer = CountVectorizer(tokenizer=tokenizer, ngram_range=(1,1))\n",
        "tfvectorizer = TfidfVectorizer(tokenizer=tokenizer)"
      ],
      "metadata": {
        "id": "xf9xR_MRJF-n"
      },
      "execution_count": null,
      "outputs": []
    },
    {
      "cell_type": "code",
      "source": [
        "# split dataset\n",
        "X=df['commentText']\n",
        "y=df['Sentiment']\n",
        "X_train,X_test,y_train,y_test=train_test_split(X,y,test_size=0.2, random_state=42)"
      ],
      "metadata": {
        "id": "xYiY0XtvJGEB"
      },
      "execution_count": null,
      "outputs": []
    },
    {
      "cell_type": "code",
      "source": [
        "# pipeline\n",
        "SVCclassifier=LinearSVC()\n",
        "SVCmodel=Pipeline([(\"cleaner\", predictors()),\n",
        "                   (\"vectorizer\", vectorizer),\n",
        "                   (\"classifier\", SVCclassifier)])"
      ],
      "metadata": {
        "id": "nGpUGhjMJZP7"
      },
      "execution_count": null,
      "outputs": []
    },
    {
      "cell_type": "code",
      "source": [
        "# train\n",
        "SVCmodel.fit(X_train,y_train)\n",
        "SVCpred=SVCmodel.predict(X_test)"
      ],
      "metadata": {
        "colab": {
          "base_uri": "https://localhost:8080/"
        },
        "id": "OQQ5U5oTJZSp",
        "outputId": "611e28b4-8a7d-42b4-9f9d-197d9297a991"
      },
      "execution_count": null,
      "outputs": [
        {
          "output_type": "stream",
          "name": "stderr",
          "text": [
            "/usr/local/lib/python3.7/dist-packages/sklearn/svm/_base.py:1208: ConvergenceWarning: Liblinear failed to converge, increase the number of iterations.\n",
            "  ConvergenceWarning,\n"
          ]
        }
      ]
    },
    {
      "cell_type": "code",
      "source": [
        "# evaluate\n",
        "confusion_matrix(y_test,SVCpred)"
      ],
      "metadata": {
        "colab": {
          "base_uri": "https://localhost:8080/"
        },
        "id": "3IIro7-CJZWO",
        "outputId": "f5865347-4bd4-4ad6-be3c-a956af316556"
      },
      "execution_count": null,
      "outputs": [
        {
          "output_type": "execute_result",
          "data": {
            "text/plain": [
              "array([[116,  64,  46],\n",
              "       [ 21, 864,  78],\n",
              "       [ 30, 118, 701]])"
            ]
          },
          "metadata": {},
          "execution_count": 30
        }
      ]
    },
    {
      "cell_type": "code",
      "source": [
        "accuracy_score(y_test,SVCpred)"
      ],
      "metadata": {
        "colab": {
          "base_uri": "https://localhost:8080/"
        },
        "id": "TgNpYK-vJZYQ",
        "outputId": "bb1003ee-5360-42e5-96de-88e6d8a0e01a"
      },
      "execution_count": null,
      "outputs": [
        {
          "output_type": "execute_result",
          "data": {
            "text/plain": [
              "0.8248282630029441"
            ]
          },
          "metadata": {},
          "execution_count": 31
        }
      ]
    },
    {
      "cell_type": "code",
      "source": [
        "print(classification_report(y_test,SVCpred))"
      ],
      "metadata": {
        "colab": {
          "base_uri": "https://localhost:8080/"
        },
        "id": "O8mMR82HJntE",
        "outputId": "c893e338-7188-4bfd-bfcf-d00f7b814273"
      },
      "execution_count": null,
      "outputs": [
        {
          "output_type": "stream",
          "name": "stdout",
          "text": [
            "              precision    recall  f1-score   support\n",
            "\n",
            "    Negitive       0.69      0.51      0.59       226\n",
            "     Neutral       0.83      0.90      0.86       963\n",
            "    Positive       0.85      0.83      0.84       849\n",
            "\n",
            "    accuracy                           0.82      2038\n",
            "   macro avg       0.79      0.75      0.76      2038\n",
            "weighted avg       0.82      0.82      0.82      2038\n",
            "\n"
          ]
        }
      ]
    },
    {
      "cell_type": "code",
      "source": [
        "pre=SVCmodel.predict([\"Modiji is doing amazing work.\"])\n",
        "print(\"Prediction : \",pre[0])"
      ],
      "metadata": {
        "colab": {
          "base_uri": "https://localhost:8080/"
        },
        "id": "4jSVetfoJnwh",
        "outputId": "b03e7a10-f9e6-4c26-b0bc-ee01f9723bf1"
      },
      "execution_count": null,
      "outputs": [
        {
          "output_type": "stream",
          "name": "stdout",
          "text": [
            "Prediction :  Positive\n"
          ]
        }
      ]
    },
    {
      "cell_type": "code",
      "source": [
        "pre=SVCmodel.predict([\"Mygov didnot react to my comment\"])\n",
        "print(\"Prediction : \",pre[0])"
      ],
      "metadata": {
        "colab": {
          "base_uri": "https://localhost:8080/"
        },
        "id": "4e2SLkA9KJky",
        "outputId": "8ee48152-3ac4-49a9-ad48-6e2bfeb3390e"
      },
      "execution_count": null,
      "outputs": [
        {
          "output_type": "stream",
          "name": "stdout",
          "text": [
            "Prediction :  Neutral\n"
          ]
        }
      ]
    },
    {
      "cell_type": "code",
      "source": [
        "pre=SVCmodel.predict([\"I do not like man ki baat theme this time\"])\n",
        "print(\"Prediction : \",pre[0])"
      ],
      "metadata": {
        "colab": {
          "base_uri": "https://localhost:8080/"
        },
        "id": "LVd5wPZvKJnl",
        "outputId": "22149e5d-53fe-4159-ce2b-2a6b3c523147"
      },
      "execution_count": null,
      "outputs": [
        {
          "output_type": "stream",
          "name": "stdout",
          "text": [
            "Prediction :  Neutral\n"
          ]
        }
      ]
    },
    {
      "cell_type": "code",
      "source": [
        "pre=SVCmodel.predict([\"Even I don't understand this. On one side, Government wants to eradicate caste system and clashes and make everyone equal. On the other side, Gov. is promoting the same.\"])\n",
        "print(\"Prediction : \",pre[0])"
      ],
      "metadata": {
        "colab": {
          "base_uri": "https://localhost:8080/"
        },
        "id": "tWXfEKowKJqs",
        "outputId": "5334990e-a613-47c1-cc36-ea850d6cacb2"
      },
      "execution_count": null,
      "outputs": [
        {
          "output_type": "stream",
          "name": "stdout",
          "text": [
            "Prediction :  Negitive\n"
          ]
        }
      ]
    },
    {
      "cell_type": "code",
      "source": [
        "pre=SVCmodel.predict([\"BJP Government is hypocrite. They make false promises\"])\n",
        "print(\"Prediction : \",pre[0])"
      ],
      "metadata": {
        "colab": {
          "base_uri": "https://localhost:8080/"
        },
        "id": "xyI6TvruLEB5",
        "outputId": "c79360e2-f333-4ceb-d877-aaf4d47b2ac3"
      },
      "execution_count": null,
      "outputs": [
        {
          "output_type": "stream",
          "name": "stdout",
          "text": [
            "Prediction :  Negitive\n"
          ]
        }
      ]
    }
  ]
}